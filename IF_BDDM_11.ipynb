{
  "nbformat": 4,
  "nbformat_minor": 0,
  "metadata": {
    "colab": {
      "provenance": [],
      "include_colab_link": true
    },
    "kernelspec": {
      "name": "python3",
      "display_name": "Python 3"
    },
    "language_info": {
      "name": "python"
    }
  },
  "cells": [
    {
      "cell_type": "markdown",
      "metadata": {
        "id": "view-in-github",
        "colab_type": "text"
      },
      "source": [
        "<a href=\"https://colab.research.google.com/github/imammularif/Google-Colabs/blob/main/IF_BDDM_11.ipynb\" target=\"_parent\"><img src=\"https://colab.research.google.com/assets/colab-badge.svg\" alt=\"Open In Colab\"/></a>"
      ]
    },
    {
      "cell_type": "markdown",
      "source": [
        "# A. Install pyspark"
      ],
      "metadata": {
        "id": "VudF_Bg0IPlH"
      }
    },
    {
      "cell_type": "code",
      "execution_count": null,
      "metadata": {
        "colab": {
          "base_uri": "https://localhost:8080/"
        },
        "id": "RF-zIcbuACgj",
        "outputId": "25bc26fe-723c-49c8-9c50-a943197f4688"
      },
      "outputs": [
        {
          "output_type": "stream",
          "name": "stdout",
          "text": [
            "Looking in indexes: https://pypi.org/simple, https://us-python.pkg.dev/colab-wheels/public/simple/\n",
            "Collecting pyspark\n",
            "  Downloading pyspark-3.2.1.tar.gz (281.4 MB)\n",
            "\u001b[K     |████████████████████████████████| 281.4 MB 30 kB/s \n",
            "\u001b[?25hCollecting py4j==0.10.9.3\n",
            "  Downloading py4j-0.10.9.3-py2.py3-none-any.whl (198 kB)\n",
            "\u001b[K     |████████████████████████████████| 198 kB 51.2 MB/s \n",
            "\u001b[?25hBuilding wheels for collected packages: pyspark\n",
            "  Building wheel for pyspark (setup.py) ... \u001b[?25l\u001b[?25hdone\n",
            "  Created wheel for pyspark: filename=pyspark-3.2.1-py2.py3-none-any.whl size=281853642 sha256=215c05d4c58149131fd7dc9731aa08619252401a6aacf80a2741283a7881a43b\n",
            "  Stored in directory: /root/.cache/pip/wheels/9f/f5/07/7cd8017084dce4e93e84e92efd1e1d5334db05f2e83bcef74f\n",
            "Successfully built pyspark\n",
            "Installing collected packages: py4j, pyspark\n",
            "Successfully installed py4j-0.10.9.3 pyspark-3.2.1\n"
          ]
        }
      ],
      "source": [
        "!pip install pyspark"
      ]
    },
    {
      "cell_type": "markdown",
      "source": [
        "# B. spark overview"
      ],
      "metadata": {
        "id": "8H8CwT6yI2yX"
      }
    },
    {
      "cell_type": "markdown",
      "source": [
        "3 Cara membuat tabel di SPARK:\n",
        "\n",
        "- Spark dataframe\n",
        "- Native Pandas\n",
        "- Pandas API\n"
      ],
      "metadata": {
        "id": "0CrhA2h-I7YK"
      }
    },
    {
      "cell_type": "markdown",
      "source": [
        "Spark Dataframe"
      ],
      "metadata": {
        "id": "IJudSdO5Jl-p"
      }
    },
    {
      "cell_type": "code",
      "source": [
        "from pyspark.sql import SparkSession\n",
        "\n",
        "spark = SparkSession.builder.getOrCreate()"
      ],
      "metadata": {
        "id": "NgHytY1_J-bN"
      },
      "execution_count": null,
      "outputs": []
    },
    {
      "cell_type": "code",
      "source": [
        "df = spark.createDataFrame([\n",
        "    (1,\"adi\",90),\n",
        "    (2,\"budi\",96),\n",
        "    (3,\"catur\",76)\n",
        "],schema=['no','nama','nilai'])\n",
        "\n",
        "df.show()"
      ],
      "metadata": {
        "colab": {
          "base_uri": "https://localhost:8080/"
        },
        "id": "eNTOPrOmKYAc",
        "outputId": "e90af87a-0269-4048-faf6-dbd9437b4b3a"
      },
      "execution_count": null,
      "outputs": [
        {
          "output_type": "stream",
          "name": "stdout",
          "text": [
            "+---+-----+-----+\n",
            "| no| nama|nilai|\n",
            "+---+-----+-----+\n",
            "|  1|  adi|   90|\n",
            "|  2| budi|   96|\n",
            "|  3|catur|   76|\n",
            "+---+-----+-----+\n",
            "\n"
          ]
        }
      ]
    },
    {
      "cell_type": "markdown",
      "source": [
        "Pandas"
      ],
      "metadata": {
        "id": "H9rqLDY7LfMe"
      }
    },
    {
      "cell_type": "code",
      "source": [
        "import pandas as pd\n",
        "\n",
        "dfpd = pd.DataFrame({\n",
        "    'no':[1,2,3],\n",
        "    'nama':[\"adi\",\"budi\",\"catur\"],\n",
        "    'nilai':[90,96,76]\n",
        "})\n",
        "dfpdspark = spark.createDataFrame(dfpd)\n",
        "dfpdspark.show()"
      ],
      "metadata": {
        "colab": {
          "base_uri": "https://localhost:8080/"
        },
        "id": "unA9qydeLeU5",
        "outputId": "952c5525-94d1-4bd4-fe66-9a492c047475"
      },
      "execution_count": null,
      "outputs": [
        {
          "output_type": "stream",
          "name": "stdout",
          "text": [
            "+---+-----+-----+\n",
            "| no| nama|nilai|\n",
            "+---+-----+-----+\n",
            "|  1|  adi|   90|\n",
            "|  2| budi|   96|\n",
            "|  3|catur|   76|\n",
            "+---+-----+-----+\n",
            "\n"
          ]
        }
      ]
    },
    {
      "cell_type": "markdown",
      "source": [
        "Pandas API"
      ],
      "metadata": {
        "id": "UdWTE0YtM5Bu"
      }
    },
    {
      "cell_type": "code",
      "source": [
        "import pyspark.pandas as ps\n",
        "\n",
        "dfps = ps.DataFrame({\n",
        "    'no':[1,2,3],\n",
        "    'nama':[\"adi\",\"budi\",\"catur\"],\n",
        "    'nilai':[90,96,76]\n",
        "})\n",
        "dfps.to_spark().show()"
      ],
      "metadata": {
        "colab": {
          "base_uri": "https://localhost:8080/"
        },
        "id": "-8eQbHlqM8dz",
        "outputId": "6e831455-7922-4ec1-a6d8-df34919c2a7e"
      },
      "execution_count": null,
      "outputs": [
        {
          "output_type": "stream",
          "name": "stderr",
          "text": [
            "WARNING:root:'PYARROW_IGNORE_TIMEZONE' environment variable was not set. It is required to set this environment variable to '1' in both driver and executor sides if you use pyarrow>=2.0.0. pandas-on-Spark will set it for you but it does not work if there is a Spark context already launched.\n"
          ]
        },
        {
          "output_type": "stream",
          "name": "stdout",
          "text": [
            "+---+-----+-----+\n",
            "| no| nama|nilai|\n",
            "+---+-----+-----+\n",
            "|  1|  adi|   90|\n",
            "|  2| budi|   96|\n",
            "|  3|catur|   76|\n",
            "+---+-----+-----+\n",
            "\n"
          ]
        }
      ]
    },
    {
      "cell_type": "markdown",
      "source": [
        "Export import"
      ],
      "metadata": {
        "id": "NFdzW6DjOCP6"
      }
    },
    {
      "cell_type": "code",
      "source": [
        "df.write.csv('coba.csv',header=True)"
      ],
      "metadata": {
        "id": "IOgfHTs4OFPC"
      },
      "execution_count": null,
      "outputs": []
    },
    {
      "cell_type": "code",
      "source": [
        "spark.read.csv('coba.csv',header=True).show()"
      ],
      "metadata": {
        "colab": {
          "base_uri": "https://localhost:8080/"
        },
        "id": "7aQpBtCYO3HF",
        "outputId": "0a591d5e-d1df-44ec-c859-28e1859d844d"
      },
      "execution_count": null,
      "outputs": [
        {
          "output_type": "stream",
          "name": "stdout",
          "text": [
            "+---+-----+-----+\n",
            "| no| nama|nilai|\n",
            "+---+-----+-----+\n",
            "|  2| budi|   96|\n",
            "|  3|catur|   76|\n",
            "|  1|  adi|   90|\n",
            "+---+-----+-----+\n",
            "\n"
          ]
        }
      ]
    },
    {
      "cell_type": "markdown",
      "source": [
        "select and filter"
      ],
      "metadata": {
        "id": "GOit-HNfPPvl"
      }
    },
    {
      "cell_type": "code",
      "source": [
        "df.select(\"nama\",\"nilai\").show()"
      ],
      "metadata": {
        "colab": {
          "base_uri": "https://localhost:8080/"
        },
        "id": "J92IMk-TPTxz",
        "outputId": "5857f733-6484-43e9-bc37-2d2a8993b0a3"
      },
      "execution_count": null,
      "outputs": [
        {
          "output_type": "stream",
          "name": "stdout",
          "text": [
            "+-----+-----+\n",
            "| nama|nilai|\n",
            "+-----+-----+\n",
            "|  adi|   90|\n",
            "| budi|   96|\n",
            "|catur|   76|\n",
            "+-----+-----+\n",
            "\n"
          ]
        }
      ]
    },
    {
      "cell_type": "code",
      "source": [
        "df.filter(df.nilai > 90).show()"
      ],
      "metadata": {
        "colab": {
          "base_uri": "https://localhost:8080/"
        },
        "id": "aW6ChIvsPg-6",
        "outputId": "ddee22ec-cb70-4bc7-85ff-ae96eb4a3b2d"
      },
      "execution_count": null,
      "outputs": [
        {
          "output_type": "stream",
          "name": "stdout",
          "text": [
            "+---+----+-----+\n",
            "| no|nama|nilai|\n",
            "+---+----+-----+\n",
            "|  2|budi|   96|\n",
            "+---+----+-----+\n",
            "\n"
          ]
        }
      ]
    },
    {
      "cell_type": "markdown",
      "source": [
        "SQL query"
      ],
      "metadata": {
        "id": "MlEaWoS9P0V4"
      }
    },
    {
      "cell_type": "code",
      "source": [
        "df.createOrReplaceTempView(\"tabledf\")\n",
        "spark.sql(\"SELECT * from tabledf where nilai < 90\").show()"
      ],
      "metadata": {
        "colab": {
          "base_uri": "https://localhost:8080/"
        },
        "id": "Xsl0VgMwP3x7",
        "outputId": "09e05bff-5da2-4da4-b0ae-ff22a449e72d"
      },
      "execution_count": null,
      "outputs": [
        {
          "output_type": "stream",
          "name": "stdout",
          "text": [
            "+---+-----+-----+\n",
            "| no| nama|nilai|\n",
            "+---+-----+-----+\n",
            "|  3|catur|   76|\n",
            "+---+-----+-----+\n",
            "\n"
          ]
        }
      ]
    },
    {
      "cell_type": "markdown",
      "source": [
        "# C. machine learning\n",
        "\n",
        "klasifikasi"
      ],
      "metadata": {
        "id": "-7SOYsjwRDxM"
      }
    },
    {
      "cell_type": "code",
      "source": [
        "from sklearn.datasets import load_iris\n",
        "import pandas as pd\n",
        "\n",
        "data = load_iris()\n",
        "\n",
        "df = pd.DataFrame(data.data,columns=data.feature_names)\n",
        "df['target'] = data.target\n",
        "\n",
        "dfml = spark.createDataFrame(df)\n",
        "dfml.show()"
      ],
      "metadata": {
        "colab": {
          "base_uri": "https://localhost:8080/"
        },
        "id": "g82S3kg5RPtR",
        "outputId": "40380cf9-6d37-4f08-c496-30b1a4fc2f71"
      },
      "execution_count": null,
      "outputs": [
        {
          "output_type": "stream",
          "name": "stdout",
          "text": [
            "+-----------------+----------------+-----------------+----------------+------+\n",
            "|sepal length (cm)|sepal width (cm)|petal length (cm)|petal width (cm)|target|\n",
            "+-----------------+----------------+-----------------+----------------+------+\n",
            "|              5.1|             3.5|              1.4|             0.2|     0|\n",
            "|              4.9|             3.0|              1.4|             0.2|     0|\n",
            "|              4.7|             3.2|              1.3|             0.2|     0|\n",
            "|              4.6|             3.1|              1.5|             0.2|     0|\n",
            "|              5.0|             3.6|              1.4|             0.2|     0|\n",
            "|              5.4|             3.9|              1.7|             0.4|     0|\n",
            "|              4.6|             3.4|              1.4|             0.3|     0|\n",
            "|              5.0|             3.4|              1.5|             0.2|     0|\n",
            "|              4.4|             2.9|              1.4|             0.2|     0|\n",
            "|              4.9|             3.1|              1.5|             0.1|     0|\n",
            "|              5.4|             3.7|              1.5|             0.2|     0|\n",
            "|              4.8|             3.4|              1.6|             0.2|     0|\n",
            "|              4.8|             3.0|              1.4|             0.1|     0|\n",
            "|              4.3|             3.0|              1.1|             0.1|     0|\n",
            "|              5.8|             4.0|              1.2|             0.2|     0|\n",
            "|              5.7|             4.4|              1.5|             0.4|     0|\n",
            "|              5.4|             3.9|              1.3|             0.4|     0|\n",
            "|              5.1|             3.5|              1.4|             0.3|     0|\n",
            "|              5.7|             3.8|              1.7|             0.3|     0|\n",
            "|              5.1|             3.8|              1.5|             0.3|     0|\n",
            "+-----------------+----------------+-----------------+----------------+------+\n",
            "only showing top 20 rows\n",
            "\n"
          ]
        }
      ]
    },
    {
      "cell_type": "markdown",
      "source": [
        "Vector Assembly"
      ],
      "metadata": {
        "id": "791cJk84TKMI"
      }
    },
    {
      "cell_type": "code",
      "source": [
        "from pyspark.ml.feature import VectorAssembler\n",
        "\n",
        "va = VectorAssembler(inputCols=['sepal length (cm)','sepal width (cm)','petal length (cm)','petal width (cm)'],\n",
        "                outputCol='features')\n",
        "dfnew = va.transform(dfml)\n",
        "dfnew.show()"
      ],
      "metadata": {
        "colab": {
          "base_uri": "https://localhost:8080/"
        },
        "id": "i471-Um9TN6r",
        "outputId": "63d9593f-3aee-4ffe-f75d-9f6ac970c6d8"
      },
      "execution_count": null,
      "outputs": [
        {
          "output_type": "stream",
          "name": "stdout",
          "text": [
            "+-----------------+----------------+-----------------+----------------+------+-----------------+\n",
            "|sepal length (cm)|sepal width (cm)|petal length (cm)|petal width (cm)|target|         features|\n",
            "+-----------------+----------------+-----------------+----------------+------+-----------------+\n",
            "|              5.1|             3.5|              1.4|             0.2|     0|[5.1,3.5,1.4,0.2]|\n",
            "|              4.9|             3.0|              1.4|             0.2|     0|[4.9,3.0,1.4,0.2]|\n",
            "|              4.7|             3.2|              1.3|             0.2|     0|[4.7,3.2,1.3,0.2]|\n",
            "|              4.6|             3.1|              1.5|             0.2|     0|[4.6,3.1,1.5,0.2]|\n",
            "|              5.0|             3.6|              1.4|             0.2|     0|[5.0,3.6,1.4,0.2]|\n",
            "|              5.4|             3.9|              1.7|             0.4|     0|[5.4,3.9,1.7,0.4]|\n",
            "|              4.6|             3.4|              1.4|             0.3|     0|[4.6,3.4,1.4,0.3]|\n",
            "|              5.0|             3.4|              1.5|             0.2|     0|[5.0,3.4,1.5,0.2]|\n",
            "|              4.4|             2.9|              1.4|             0.2|     0|[4.4,2.9,1.4,0.2]|\n",
            "|              4.9|             3.1|              1.5|             0.1|     0|[4.9,3.1,1.5,0.1]|\n",
            "|              5.4|             3.7|              1.5|             0.2|     0|[5.4,3.7,1.5,0.2]|\n",
            "|              4.8|             3.4|              1.6|             0.2|     0|[4.8,3.4,1.6,0.2]|\n",
            "|              4.8|             3.0|              1.4|             0.1|     0|[4.8,3.0,1.4,0.1]|\n",
            "|              4.3|             3.0|              1.1|             0.1|     0|[4.3,3.0,1.1,0.1]|\n",
            "|              5.8|             4.0|              1.2|             0.2|     0|[5.8,4.0,1.2,0.2]|\n",
            "|              5.7|             4.4|              1.5|             0.4|     0|[5.7,4.4,1.5,0.4]|\n",
            "|              5.4|             3.9|              1.3|             0.4|     0|[5.4,3.9,1.3,0.4]|\n",
            "|              5.1|             3.5|              1.4|             0.3|     0|[5.1,3.5,1.4,0.3]|\n",
            "|              5.7|             3.8|              1.7|             0.3|     0|[5.7,3.8,1.7,0.3]|\n",
            "|              5.1|             3.8|              1.5|             0.3|     0|[5.1,3.8,1.5,0.3]|\n",
            "+-----------------+----------------+-----------------+----------------+------+-----------------+\n",
            "only showing top 20 rows\n",
            "\n"
          ]
        }
      ]
    },
    {
      "cell_type": "markdown",
      "source": [
        "split data"
      ],
      "metadata": {
        "id": "kXiYewKsU2QE"
      }
    },
    {
      "cell_type": "code",
      "source": [
        "train, test = dfnew.randomSplit([0.7,0.3],seed = 123)\n"
      ],
      "metadata": {
        "id": "mCK9ZMa-U6Jt"
      },
      "execution_count": null,
      "outputs": []
    },
    {
      "cell_type": "markdown",
      "source": [
        "training"
      ],
      "metadata": {
        "id": "TwgNIKGqVXxD"
      }
    },
    {
      "cell_type": "code",
      "source": [
        "from pyspark.ml.classification import LogisticRegression\n",
        "\n",
        "lr = LogisticRegression(featuresCol='features',labelCol='target')\n",
        "\n",
        "modellr = lr.fit(train)"
      ],
      "metadata": {
        "id": "zjD54zWLVZjG"
      },
      "execution_count": null,
      "outputs": []
    },
    {
      "cell_type": "code",
      "source": [
        "modellr.summary.accuracy"
      ],
      "metadata": {
        "colab": {
          "base_uri": "https://localhost:8080/"
        },
        "id": "hhTA9j2IWDmJ",
        "outputId": "2706c8f4-14db-4c72-df08-c6bac82a95b2"
      },
      "execution_count": null,
      "outputs": [
        {
          "output_type": "execute_result",
          "data": {
            "text/plain": [
              "1.0"
            ]
          },
          "metadata": {},
          "execution_count": 23
        }
      ]
    },
    {
      "cell_type": "markdown",
      "source": [
        "testing"
      ],
      "metadata": {
        "id": "Hyg8JjB5W_pq"
      }
    },
    {
      "cell_type": "code",
      "source": [
        "pred = modellr.transform(test)\n",
        "pred.show()"
      ],
      "metadata": {
        "colab": {
          "base_uri": "https://localhost:8080/"
        },
        "id": "p_vjw9exXBdh",
        "outputId": "f52b82dc-a70c-484c-e6ad-9fe2b65d2060"
      },
      "execution_count": null,
      "outputs": [
        {
          "output_type": "stream",
          "name": "stdout",
          "text": [
            "+-----------------+----------------+-----------------+----------------+------+-----------------+--------------------+--------------------+----------+\n",
            "|sepal length (cm)|sepal width (cm)|petal length (cm)|petal width (cm)|target|         features|       rawPrediction|         probability|prediction|\n",
            "+-----------------+----------------+-----------------+----------------+------+-----------------+--------------------+--------------------+----------+\n",
            "|              4.4|             3.0|              1.3|             0.2|     0|[4.4,3.0,1.3,0.2]|[215.707349787378...|[1.0,3.7712967637...|       0.0|\n",
            "|              4.6|             3.2|              1.4|             0.2|     0|[4.6,3.2,1.4,0.2]|[215.826867809311...|[1.0,2.1087204706...|       0.0|\n",
            "|              4.7|             3.2|              1.3|             0.2|     0|[4.7,3.2,1.3,0.2]|[215.383815494839...|[1.0,5.9822545819...|       0.0|\n",
            "|              4.8|             3.0|              1.4|             0.3|     0|[4.8,3.0,1.4,0.3]|[187.696094351154...|[1.0,1.5837669673...|       0.0|\n",
            "|              4.8|             3.1|              1.6|             0.2|     0|[4.8,3.1,1.6,0.2]|[193.795782604171...|[1.0,2.4559249266...|       0.0|\n",
            "|              4.9|             3.1|              1.5|             0.1|     0|[4.9,3.1,1.5,0.1]|[200.826168058255...|[1.0,2.3877657217...|       0.0|\n",
            "|              5.0|             3.2|              1.2|             0.2|     0|[5.0,3.2,1.2,0.2]|[206.548415187512...|[1.0,1.1860463118...|       0.0|\n",
            "|              5.0|             3.6|              1.4|             0.2|     0|[5.0,3.6,1.4,0.2]|[223.572147217089...|[1.0,7.5923548836...|       0.0|\n",
            "|              5.1|             3.3|              1.7|             0.5|     0|[5.1,3.3,1.7,0.5]|[167.298813324007...|[1.0,2.8519807155...|       0.0|\n",
            "|              5.1|             3.5|              1.4|             0.3|     0|[5.1,3.5,1.4,0.3]|[205.770041603733...|[1.0,3.5542441598...|       0.0|\n",
            "|              5.1|             3.7|              1.5|             0.4|     0|[5.1,3.7,1.5,0.4]|[206.808469849965...|[1.0,8.2976275194...|       0.0|\n",
            "|              5.1|             3.8|              1.5|             0.3|     0|[5.1,3.8,1.5,0.3]|[220.414401466894...|[1.0,1.4817625575...|       0.0|\n",
            "|              5.2|             2.7|              3.9|             1.4|     1|[5.2,2.7,3.9,1.4]|[-23.521940682694...|[2.58647288557219...|       1.0|\n",
            "|              5.2|             3.5|              1.5|             0.2|     0|[5.2,3.5,1.5,0.2]|[205.294183693905...|[1.0,3.0007029837...|       0.0|\n",
            "|              5.4|             3.9|              1.3|             0.4|     0|[5.4,3.9,1.3,0.4]|[213.991178921339...|[1.0,1.5157549410...|       0.0|\n",
            "|              5.4|             3.9|              1.7|             0.4|     0|[5.4,3.9,1.7,0.4]|[198.978692193514...|[1.0,1.1429500301...|       0.0|\n",
            "|              5.7|             3.8|              1.7|             0.3|     0|[5.7,3.8,1.7,0.3]|[187.731114124415...|[0.99999999999956...|       0.0|\n",
            "|              5.8|             4.0|              1.2|             0.2|     0|[5.8,4.0,1.2,0.2]|[222.038974003069...|[1.0,1.5375052907...|       0.0|\n",
            "|              5.9|             3.2|              4.8|             1.8|     1|[5.9,3.2,4.8,1.8]|[-85.904535627657...|[6.13699107824649...|       2.0|\n",
            "|              6.0|             2.2|              4.0|             1.0|     1|[6.0,2.2,4.0,1.0]|[-61.613172503710...|[1.02456970805728...|       1.0|\n",
            "+-----------------+----------------+-----------------+----------------+------+-----------------+--------------------+--------------------+----------+\n",
            "only showing top 20 rows\n",
            "\n"
          ]
        }
      ]
    },
    {
      "cell_type": "markdown",
      "source": [
        "evaluasi"
      ],
      "metadata": {
        "id": "k_3N898JXjuC"
      }
    },
    {
      "cell_type": "code",
      "source": [
        "from pyspark.ml.evaluation import MulticlassClassificationEvaluator\n",
        "ev = MulticlassClassificationEvaluator()\n",
        "ev.setPredictionCol('prediction')\n",
        "ev.setLabelCol('target')\n",
        "ev.evaluate(pred)"
      ],
      "metadata": {
        "colab": {
          "base_uri": "https://localhost:8080/"
        },
        "id": "hnneVae1XnIX",
        "outputId": "7dd2814c-20e8-48f4-dba6-05789de6689b"
      },
      "execution_count": null,
      "outputs": [
        {
          "output_type": "execute_result",
          "data": {
            "text/plain": [
              "0.9349384447561165"
            ]
          },
          "metadata": {},
          "execution_count": 25
        }
      ]
    }
  ]
}